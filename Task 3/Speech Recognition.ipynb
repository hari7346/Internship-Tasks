{
 "cells": [
  {
   "cell_type": "markdown",
   "id": "9a0ccdd5",
   "metadata": {},
   "source": [
    "# SPEECH RECOGNITION"
   ]
  },
  {
   "cell_type": "code",
   "execution_count": 149,
   "id": "bf9e9bb2",
   "metadata": {},
   "outputs": [],
   "source": [
    "import numpy as np\n",
    "import matplotlib.pyplot as plt\n",
    "import os\n",
    "from glob import glob\n",
    "import librosa\n",
    "%matplotlib inline\n",
    "\n",
    "from sklearn.model_selection import train_test_split\n",
    "from tensorflow.keras.models import Sequential, Model\n",
    "from tensorflow.keras.layers import Conv2D, MaxPooling2D, Flatten, Dense, Dropout, Input, BatchNormalization, Activation, MaxPooling2D\n",
    "from tensorflow.keras.callbacks import ModelCheckpoint, ReduceLROnPlateau"
   ]
  },
  {
   "cell_type": "markdown",
   "id": "9473fc0d",
   "metadata": {},
   "source": [
    "Set your dataset directory and emotion labels"
   ]
  },
  {
   "cell_type": "code",
   "execution_count": 10,
   "id": "c55fd6a3",
   "metadata": {},
   "outputs": [],
   "source": [
    "dataset_dir = 'dataset'\n",
    "emotion_labels = ['angry', 'disgust', 'fear', 'happy', 'neutral', 'sad', 'surprise']"
   ]
  },
  {
   "cell_type": "markdown",
   "id": "028e1d35",
   "metadata": {},
   "source": [
    "Load and preprocess audio data"
   ]
  },
  {
   "cell_type": "code",
   "execution_count": 103,
   "id": "091a1928",
   "metadata": {},
   "outputs": [],
   "source": [
    "def preprocess_audio(file_path, num_mfcc=13, max_frames=504):\n",
    "    y, sr = librosa.load(file_path, sr=None)\n",
    "    mfccs = librosa.feature.mfcc(y=y, sr=sr, n_mfcc=num_mfcc)\n",
    "    \n",
    "    # Pad or truncate MFCCs to have a consistent number of time steps\n",
    "    if mfccs.shape[1] < max_frames:\n",
    "        pad_width = max_frames - mfccs.shape[1]\n",
    "        mfccs = np.pad(mfccs, pad_width=((0, 0), (0, pad_width)))\n",
    "    else:\n",
    "        mfccs = mfccs[:, :max_frames]\n",
    "    \n",
    "    return mfccs"
   ]
  },
  {
   "cell_type": "markdown",
   "id": "50d83e50",
   "metadata": {},
   "source": [
    "Create sample dataset"
   ]
  },
  {
   "cell_type": "code",
   "execution_count": 105,
   "id": "3a1143c2",
   "metadata": {},
   "outputs": [],
   "source": [
    "data = []\n",
    "labels = []\n",
    "\n",
    "for emotion_label in emotion_labels:\n",
    "    emotion_dir = os.path.join(dataset_dir, emotion_label)\n",
    "    for audio_file in os.listdir(emotion_dir):\n",
    "        if audio_file.endswith('.wav'):\n",
    "            audio_path = os.path.join(emotion_dir, audio_file)\n",
    "            features = preprocess_audio(audio_path)\n",
    "            data.append(features)\n",
    "            labels.append(emotion_labels.index(emotion_label))\n",
    "\n",
    "data = np.array(data)\n",
    "labels = np.array(labels)"
   ]
  },
  {
   "cell_type": "markdown",
   "id": "32f3897b",
   "metadata": {},
   "source": [
    "Split data into training and validation sets"
   ]
  },
  {
   "cell_type": "code",
   "execution_count": 129,
   "id": "61099d95",
   "metadata": {},
   "outputs": [
    {
     "name": "stdout",
     "output_type": "stream",
     "text": [
      "(101,)\n",
      "(101, 13, 504)\n",
      "(403,)\n",
      "(403, 13, 504)\n"
     ]
    }
   ],
   "source": [
    "x_train, x_val, y_train, y_val = train_test_split(data, labels, test_size=0.2, random_state=42)\n",
    "print(y_val.shape)\n",
    "print(x_val.shape)\n",
    "print(y_train.shape)\n",
    "print(x_train.shape)"
   ]
  },
  {
   "cell_type": "markdown",
   "id": "6996234b",
   "metadata": {},
   "source": [
    "Create a CNN model"
   ]
  },
  {
   "cell_type": "code",
   "execution_count": 33,
   "id": "cbcd5de1",
   "metadata": {},
   "outputs": [],
   "source": [
    "# model = Sequential()\n",
    "# model.add(Conv2D(32, (3, 3), activation='relu', input_shape=(x_train[0].shape[0], x_train[0].shape[1], 1)))\n",
    "# model.add(MaxPooling2D((2, 2)))\n",
    "# model.add(Flatten())\n",
    "# model.add(Dense(128, activation='relu'))\n",
    "# model.add(Dense(len(emotion_labels), activation='softmax'))\n",
    "# model.compile(optimizer='adam', loss='sparse_categorical_crossentropy', metrics=['accuracy'])"
   ]
  },
  {
   "cell_type": "code",
   "execution_count": 136,
   "id": "465c5174",
   "metadata": {},
   "outputs": [],
   "source": [
    "def Convolution(input_tensor, filters, kernel_size):\n",
    "    x = Conv2D(filters = filters, kernel_size = kernel_size, padding = \"same\")(input_tensor)\n",
    "    x = BatchNormalization()(x)\n",
    "    x = Activation('relu')(x)\n",
    "    x = MaxPooling2D(pool_size = (2,2))(x)\n",
    "    x = Dropout(0.25)(x)\n",
    "    \n",
    "    return x"
   ]
  },
  {
   "cell_type": "code",
   "execution_count": 137,
   "id": "d862edbd",
   "metadata": {},
   "outputs": [],
   "source": [
    "def Dense_f(input_tensor, nodes):\n",
    "    x = Dense(nodes)(input_tensor)\n",
    "    x = BatchNormalization()(x)\n",
    "    x = Activation('relu')(x)\n",
    "    x = Dropout(0.25)(x)\n",
    "    \n",
    "    return x"
   ]
  },
  {
   "cell_type": "code",
   "execution_count": 167,
   "id": "13fcba55",
   "metadata": {},
   "outputs": [],
   "source": [
    "def model_fer(input_shape):\n",
    "    inputs = Input(input_shape)\n",
    "    conv_1 = Convolution(inputs, 32, (3,3))\n",
    "    conv_2 = Convolution(conv_1, 64, (5,5))\n",
    "    conv_3 = Convolution(conv_2, 128, (3,3))\n",
    "    \n",
    "    flatten = Flatten()(conv_3)\n",
    "    dense_1 = Dense_f(flatten,256)\n",
    "#     dense_2 = Dense_f(dense_1,512)\n",
    "    \n",
    "    output = Dense(len(emotion_labels),activation = \"softmax\")(dense_1)\n",
    "    model = Model(inputs = [inputs], outputs = [output])\n",
    "    \n",
    "    model.compile(loss = ['sparse_categorical_crossentropy'], optimizer = 'adam', metrics = ['accuracy'])\n",
    "    \n",
    "    return model"
   ]
  },
  {
   "cell_type": "code",
   "execution_count": 168,
   "id": "5f73c978",
   "metadata": {},
   "outputs": [
    {
     "name": "stdout",
     "output_type": "stream",
     "text": [
      "Model: \"model_5\"\n",
      "_________________________________________________________________\n",
      " Layer (type)                Output Shape              Param #   \n",
      "=================================================================\n",
      " input_13 (InputLayer)       [(None, 13, 504, 1)]      0         \n",
      "                                                                 \n",
      " conv2d_35 (Conv2D)          (None, 13, 504, 32)       320       \n",
      "                                                                 \n",
      " batch_normalization_39 (Ba  (None, 13, 504, 32)       128       \n",
      " tchNormalization)                                               \n",
      "                                                                 \n",
      " activation_39 (Activation)  (None, 13, 504, 32)       0         \n",
      "                                                                 \n",
      " max_pooling2d_34 (MaxPooli  (None, 6, 252, 32)        0         \n",
      " ng2D)                                                           \n",
      "                                                                 \n",
      " dropout_33 (Dropout)        (None, 6, 252, 32)        0         \n",
      "                                                                 \n",
      " conv2d_36 (Conv2D)          (None, 6, 252, 64)        51264     \n",
      "                                                                 \n",
      " batch_normalization_40 (Ba  (None, 6, 252, 64)        256       \n",
      " tchNormalization)                                               \n",
      "                                                                 \n",
      " activation_40 (Activation)  (None, 6, 252, 64)        0         \n",
      "                                                                 \n",
      " max_pooling2d_35 (MaxPooli  (None, 3, 126, 64)        0         \n",
      " ng2D)                                                           \n",
      "                                                                 \n",
      " dropout_34 (Dropout)        (None, 3, 126, 64)        0         \n",
      "                                                                 \n",
      " conv2d_37 (Conv2D)          (None, 3, 126, 128)       73856     \n",
      "                                                                 \n",
      " batch_normalization_41 (Ba  (None, 3, 126, 128)       512       \n",
      " tchNormalization)                                               \n",
      "                                                                 \n",
      " activation_41 (Activation)  (None, 3, 126, 128)       0         \n",
      "                                                                 \n",
      " max_pooling2d_36 (MaxPooli  (None, 1, 63, 128)        0         \n",
      " ng2D)                                                           \n",
      "                                                                 \n",
      " dropout_35 (Dropout)        (None, 1, 63, 128)        0         \n",
      "                                                                 \n",
      " flatten_8 (Flatten)         (None, 8064)              0         \n",
      "                                                                 \n",
      " dense_14 (Dense)            (None, 256)               2064640   \n",
      "                                                                 \n",
      " batch_normalization_42 (Ba  (None, 256)               1024      \n",
      " tchNormalization)                                               \n",
      "                                                                 \n",
      " activation_42 (Activation)  (None, 256)               0         \n",
      "                                                                 \n",
      " dropout_36 (Dropout)        (None, 256)               0         \n",
      "                                                                 \n",
      " dense_15 (Dense)            (None, 7)                 1799      \n",
      "                                                                 \n",
      "=================================================================\n",
      "Total params: 2193799 (8.37 MB)\n",
      "Trainable params: 2192839 (8.37 MB)\n",
      "Non-trainable params: 960 (3.75 KB)\n",
      "_________________________________________________________________\n"
     ]
    }
   ],
   "source": [
    "input_shape = (x_train.shape[1], x_train.shape[2], 1)\n",
    "model = model_fer(input_shape)\n",
    "model.summary()"
   ]
  },
  {
   "cell_type": "markdown",
   "id": "832e6883",
   "metadata": {},
   "source": [
    "Initializing Model"
   ]
  },
  {
   "cell_type": "code",
   "execution_count": 169,
   "id": "6a69f99f",
   "metadata": {},
   "outputs": [],
   "source": [
    "epochs = 20\n",
    "steps_per_epoch = len(x_train)//64\n",
    "validation_steps = len(x_val)//64\n",
    "\n",
    "checkpoint = ModelCheckpoint(\"model_weights.h5\", monitor = \"val_accuracy\", save_weights_only = True, mode = \"max\", verbose = 1)\n",
    "callbacks = [checkpoint]"
   ]
  },
  {
   "cell_type": "markdown",
   "id": "f80571eb",
   "metadata": {},
   "source": [
    "Train the model"
   ]
  },
  {
   "cell_type": "code",
   "execution_count": 170,
   "id": "0d841eb6",
   "metadata": {},
   "outputs": [
    {
     "name": "stdout",
     "output_type": "stream",
     "text": [
      "Epoch 1/20\n",
      "6/6 [==============================] - ETA: 0s - loss: 2.1310 - accuracy: 0.2333\n",
      "Epoch 1: saving model to model_weights.h5\n",
      "6/6 [==============================] - 10s 1s/step - loss: 2.1310 - accuracy: 0.2333 - val_loss: 21.9498 - val_accuracy: 0.1485\n",
      "Epoch 2/20\n",
      "6/6 [==============================] - ETA: 0s - loss: 1.8133 - accuracy: 0.3226\n",
      "Epoch 2: saving model to model_weights.h5\n",
      "6/6 [==============================] - 6s 1s/step - loss: 1.8133 - accuracy: 0.3226 - val_loss: 20.0725 - val_accuracy: 0.1188\n",
      "Epoch 3/20\n",
      "6/6 [==============================] - ETA: 0s - loss: 1.6107 - accuracy: 0.3772\n",
      "Epoch 3: saving model to model_weights.h5\n",
      "6/6 [==============================] - 6s 1s/step - loss: 1.6107 - accuracy: 0.3772 - val_loss: 15.0479 - val_accuracy: 0.1188\n",
      "Epoch 4/20\n",
      "6/6 [==============================] - ETA: 0s - loss: 1.5578 - accuracy: 0.3648\n",
      "Epoch 4: saving model to model_weights.h5\n",
      "6/6 [==============================] - 6s 1s/step - loss: 1.5578 - accuracy: 0.3648 - val_loss: 15.1888 - val_accuracy: 0.1188\n",
      "Epoch 5/20\n",
      "6/6 [==============================] - ETA: 0s - loss: 1.4205 - accuracy: 0.4392\n",
      "Epoch 5: saving model to model_weights.h5\n",
      "6/6 [==============================] - 6s 1s/step - loss: 1.4205 - accuracy: 0.4392 - val_loss: 13.9355 - val_accuracy: 0.1188\n",
      "Epoch 6/20\n",
      "6/6 [==============================] - ETA: 0s - loss: 1.2452 - accuracy: 0.5186\n",
      "Epoch 6: saving model to model_weights.h5\n",
      "6/6 [==============================] - 6s 1s/step - loss: 1.2452 - accuracy: 0.5186 - val_loss: 9.9542 - val_accuracy: 0.1584\n",
      "Epoch 7/20\n",
      "6/6 [==============================] - ETA: 0s - loss: 1.1753 - accuracy: 0.5285\n",
      "Epoch 7: saving model to model_weights.h5\n",
      "6/6 [==============================] - 6s 1s/step - loss: 1.1753 - accuracy: 0.5285 - val_loss: 7.9811 - val_accuracy: 0.2178\n",
      "Epoch 8/20\n",
      "6/6 [==============================] - ETA: 0s - loss: 1.0320 - accuracy: 0.6079\n",
      "Epoch 8: saving model to model_weights.h5\n",
      "6/6 [==============================] - 6s 1s/step - loss: 1.0320 - accuracy: 0.6079 - val_loss: 6.3553 - val_accuracy: 0.2277\n",
      "Epoch 9/20\n",
      "6/6 [==============================] - ETA: 0s - loss: 0.9852 - accuracy: 0.6154\n",
      "Epoch 9: saving model to model_weights.h5\n",
      "6/6 [==============================] - 6s 1s/step - loss: 0.9852 - accuracy: 0.6154 - val_loss: 4.9743 - val_accuracy: 0.2772\n",
      "Epoch 10/20\n",
      "6/6 [==============================] - ETA: 0s - loss: 0.8429 - accuracy: 0.6650\n",
      "Epoch 10: saving model to model_weights.h5\n",
      "6/6 [==============================] - 6s 1s/step - loss: 0.8429 - accuracy: 0.6650 - val_loss: 4.6238 - val_accuracy: 0.2772\n",
      "Epoch 11/20\n",
      "6/6 [==============================] - ETA: 0s - loss: 0.7806 - accuracy: 0.7270\n",
      "Epoch 11: saving model to model_weights.h5\n",
      "6/6 [==============================] - 6s 1s/step - loss: 0.7806 - accuracy: 0.7270 - val_loss: 4.4106 - val_accuracy: 0.2673\n",
      "Epoch 12/20\n",
      "6/6 [==============================] - ETA: 0s - loss: 0.7148 - accuracy: 0.7370\n",
      "Epoch 12: saving model to model_weights.h5\n",
      "6/6 [==============================] - 6s 1s/step - loss: 0.7148 - accuracy: 0.7370 - val_loss: 4.1781 - val_accuracy: 0.2079\n",
      "Epoch 13/20\n",
      "6/6 [==============================] - ETA: 0s - loss: 0.6278 - accuracy: 0.7692\n",
      "Epoch 13: saving model to model_weights.h5\n",
      "6/6 [==============================] - 6s 1s/step - loss: 0.6278 - accuracy: 0.7692 - val_loss: 3.0812 - val_accuracy: 0.2871\n",
      "Epoch 14/20\n",
      "6/6 [==============================] - ETA: 0s - loss: 0.6257 - accuracy: 0.7618\n",
      "Epoch 14: saving model to model_weights.h5\n",
      "6/6 [==============================] - 6s 1s/step - loss: 0.6257 - accuracy: 0.7618 - val_loss: 2.2715 - val_accuracy: 0.3861\n",
      "Epoch 15/20\n",
      "6/6 [==============================] - ETA: 0s - loss: 0.5230 - accuracy: 0.7990\n",
      "Epoch 15: saving model to model_weights.h5\n",
      "6/6 [==============================] - 6s 1s/step - loss: 0.5230 - accuracy: 0.7990 - val_loss: 1.6434 - val_accuracy: 0.5149\n",
      "Epoch 16/20\n",
      "6/6 [==============================] - ETA: 0s - loss: 0.4296 - accuracy: 0.8635\n",
      "Epoch 16: saving model to model_weights.h5\n",
      "6/6 [==============================] - 6s 1s/step - loss: 0.4296 - accuracy: 0.8635 - val_loss: 1.8349 - val_accuracy: 0.4059\n",
      "Epoch 17/20\n",
      "6/6 [==============================] - ETA: 0s - loss: 0.4153 - accuracy: 0.8586\n",
      "Epoch 17: saving model to model_weights.h5\n",
      "6/6 [==============================] - 6s 1s/step - loss: 0.4153 - accuracy: 0.8586 - val_loss: 1.9144 - val_accuracy: 0.4554\n",
      "Epoch 18/20\n",
      "6/6 [==============================] - ETA: 0s - loss: 0.3858 - accuracy: 0.8685\n",
      "Epoch 18: saving model to model_weights.h5\n",
      "6/6 [==============================] - 6s 1s/step - loss: 0.3858 - accuracy: 0.8685 - val_loss: 2.1285 - val_accuracy: 0.4455\n",
      "Epoch 19/20\n",
      "6/6 [==============================] - ETA: 0s - loss: 0.3558 - accuracy: 0.8784\n",
      "Epoch 19: saving model to model_weights.h5\n",
      "6/6 [==============================] - 6s 1s/step - loss: 0.3558 - accuracy: 0.8784 - val_loss: 2.4374 - val_accuracy: 0.3663\n",
      "Epoch 20/20\n",
      "6/6 [==============================] - ETA: 0s - loss: 0.3448 - accuracy: 0.8933\n",
      "Epoch 20: saving model to model_weights.h5\n",
      "6/6 [==============================] - 6s 1s/step - loss: 0.3448 - accuracy: 0.8933 - val_loss: 1.8093 - val_accuracy: 0.4653\n"
     ]
    }
   ],
   "source": [
    "history = model.fit(\n",
    "    x=x_train,  # Training data\n",
    "    y=y_train,  # Training labels\n",
    "    steps_per_epoch=steps_per_epoch,\n",
    "    epochs=epochs,\n",
    "    validation_data=(x_val, y_val),  # Validation data\n",
    "    validation_steps=validation_steps,\n",
    "    callbacks=callbacks\n",
    ")"
   ]
  },
  {
   "cell_type": "markdown",
   "id": "996b6f53",
   "metadata": {},
   "source": [
    "Model Evaluation"
   ]
  },
  {
   "cell_type": "code",
   "execution_count": 171,
   "id": "53544d5d",
   "metadata": {},
   "outputs": [
    {
     "name": "stdout",
     "output_type": "stream",
     "text": [
      "4/4 [==============================] - 1s 85ms/step - loss: 1.8093 - accuracy: 0.4653\n"
     ]
    },
    {
     "data": {
      "text/plain": [
       "[1.8093211650848389, 0.4653465449810028]"
      ]
     },
     "execution_count": 171,
     "metadata": {},
     "output_type": "execute_result"
    }
   ],
   "source": [
    "model.evaluate(x_val,y_val)"
   ]
  },
  {
   "cell_type": "markdown",
   "id": "2caf9da7",
   "metadata": {},
   "source": [
    "Plotting loss"
   ]
  },
  {
   "cell_type": "code",
   "execution_count": 172,
   "id": "9eb1204f",
   "metadata": {},
   "outputs": [
    {
     "data": {
      "image/png": "[encoded data removed]",
      "text/plain": [
       "<Figure size 640x480 with 1 Axes>"
      ]
     },
     "metadata": {},
     "output_type": "display_data"
    }
   ],
   "source": [
    "plt.plot(history.history['loss'])\n",
    "plt.plot(history.history['val_loss'])\n",
    "plt.title('Model Loss')\n",
    "plt.legend(['Train','Validation'], loc = 'upper left')\n",
    "plt.subplots_adjust(top = 1.0, bottom = 0.0, right = 0.95, left = 0.0, hspace = 0.25, wspace = 0.35)"
   ]
  },
  {
   "cell_type": "code",
   "execution_count": 173,
   "id": "0124a249",
   "metadata": {},
   "outputs": [
    {
     "data": {
      "image/png": "[encoded data removed]",
      "text/plain": [
       "<Figure size 640x480 with 1 Axes>"
      ]
     },
     "metadata": {},
     "output_type": "display_data"
    }
   ],
   "source": [
    "plt.plot(history.history['accuracy'])\n",
    "plt.plot(history.history['val_accuracy'])\n",
    "plt.title('Model Accuracy')\n",
    "plt.legend(['Train','Validation'], loc = 'upper left')\n",
    "plt.subplots_adjust(top = 1.0, bottom = 0.0, right = 0.95, left = 0.0, hspace = 0.25, wspace = 0.35)"
   ]
  },
  {
   "cell_type": "code",
   "execution_count": 155,
   "id": "78862b07",
   "metadata": {},
   "outputs": [],
   "source": [
    "model_json = model.to_json()\n",
    "with open(\"model_a.json\", \"w\") as json_file:\n",
    "    json_file.write(model_json)"
   ]
  },
  {
   "cell_type": "code",
   "execution_count": null,
   "id": "c824b3d5",
   "metadata": {},
   "outputs": [],
   "source": []
  }
 ],
 "metadata": {
  "kernelspec": {
   "display_name": "Python 3 (ipykernel)",
   "language": "python",
   "name": "python3"
  },
  "language_info": {
   "codemirror_mode": {
    "name": "ipython",
    "version": 3
   },
   "file_extension": ".py",
   "mimetype": "text/x-python",
   "name": "python",
   "nbconvert_exporter": "python",
   "pygments_lexer": "ipython3",
   "version": "3.11.4"
  }
 },
 "nbformat": 4,
 "nbformat_minor": 5
}
